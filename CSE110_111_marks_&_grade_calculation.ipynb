{
  "nbformat": 4,
  "nbformat_minor": 0,
  "metadata": {
    "colab": {
      "provenance": [],
      "authorship_tag": "ABX9TyOOac8EMyxVt8HHREQnFf2Y",
      "include_colab_link": true
    },
    "kernelspec": {
      "name": "python3",
      "display_name": "Python 3"
    },
    "language_info": {
      "name": "python"
    }
  },
  "cells": [
    {
      "cell_type": "markdown",
      "metadata": {
        "id": "view-in-github",
        "colab_type": "text"
      },
      "source": [
        "<a href=\"https://colab.research.google.com/github/mrhassanbracu/CSE110-CSE111-BRACU-CGPA-CALCULATOR-BASIC-LEVEL-/blob/main/CSE110_111_marks_%26_grade_calculation.ipynb\" target=\"_parent\"><img src=\"https://colab.research.google.com/assets/colab-badge.svg\" alt=\"Open In Colab\"/></a>"
      ]
    },
    {
      "cell_type": "code",
      "execution_count": 1,
      "metadata": {
        "colab": {
          "base_uri": "https://localhost:8080/"
        },
        "id": "qVcps-ufOaWc",
        "outputId": "edc649a5-856a-44a9-e036-ce1e583d89ee"
      },
      "outputs": [
        {
          "output_type": "stream",
          "name": "stdout",
          "text": [
            "Name: Rakibul Hassan\n",
            "mid:17\n",
            "lab:24.5\n",
            "attendence:5\n",
            "final:30\n",
            "quiz:20\n",
            "quiz:16\n",
            "quiz:18\n",
            "quiz:19\n",
            "95.5\n",
            "CGPA 4.00\n"
          ]
        }
      ],
      "source": [
        "#CSE110 marks & grade calculation \n",
        "\n",
        "def result(name,mid,quiz,lab,attendence,final):\n",
        "    finals=mid+(quiz/3)+lab+attendence+final\n",
        "    return finals\n",
        "a=input(\"Name: \")\n",
        "b=float(input(\"mid:\" ))\n",
        "l=float(input(\"lab:\" ))\n",
        "att=float(input(\"attendence:\" ))\n",
        "fin=float(input(\"final:\" ))\n",
        "sum=0\n",
        "l1=[]\n",
        "for i in range(4): \n",
        " c=float(input(\"quiz:\" ))\n",
        " l1.append(c)\n",
        "l1.sort()\n",
        "l1=l1[1:4]\n",
        "for j in l1:\n",
        "  sum+=j\n",
        "\n",
        "f=result(a,b,sum,l,att,fin)\n",
        "if f>=90:\n",
        "  print(f)\n",
        "  print(\"CGPA 4.00\")\n",
        "elif 85<=f<90:\n",
        "  print(f)\n",
        "  print(\"CGPA 3.7\")\n",
        "elif 85<=f<90:\n",
        "  print(f)\n",
        "  print(\"CGPA 3.7\")\n",
        "elif 80<=f<85:\n",
        "  print(f)\n",
        "  print(\"CGPA 3.3\")\n",
        "elif 75<=f<80:\n",
        "  print(f)\n",
        "  print(\"CGPA 3.0\")\n",
        "elif 70<=f<85:\n",
        "  print(f)\n",
        "  print(\"CGPA 2.7\")\n",
        "elif 65<=f<70:\n",
        "  print(f)\n",
        "  print(\"CGPA 2.3\")\n",
        "elif 60<=f<65:\n",
        "  print(f)\n",
        "  print(\"CGPA 2.0\")\n",
        "elif 57<=f<60:\n",
        "  print(f)\n",
        "  print(\"CGPA 1.7\")\n",
        "elif 55<=f<57:\n",
        "  print(f)\n",
        "  print(\"CGPA 1.3\")\n",
        "elif 52<=f<55:\n",
        "  print(f)\n",
        "  print(\"CGPA 1.0\")  \n",
        "elif 50<=f<52:\n",
        "  print(f)\n",
        "  print(\"CGPA 0.7\")\n",
        "elif 0<=f<50:\n",
        "  print(f)\n",
        "  print(\"CGPA 0.0 Or Failure\")"
      ]
    }
  ]
}