{
  "nbformat": 4,
  "nbformat_minor": 0,
  "metadata": {
    "colab": {
      "provenance": [],
      "authorship_tag": "ABX9TyMr1JriJ+eRmvKuJnj1qD+b",
      "include_colab_link": true
    },
    "kernelspec": {
      "name": "python3",
      "display_name": "Python 3"
    },
    "language_info": {
      "name": "python"
    }
  },
  "cells": [
    {
      "cell_type": "markdown",
      "metadata": {
        "id": "view-in-github",
        "colab_type": "text"
      },
      "source": [
        "<a href=\"https://colab.research.google.com/github/mrhassanbracu/CSE110-CSE111-BRACU-CGPA-CALCULATOR-BASIC-LEVEL-/blob/main/CSE_110_LAB_07_.ipynb\" target=\"_parent\"><img src=\"https://colab.research.google.com/assets/colab-badge.svg\" alt=\"Open In Colab\"/></a>"
      ]
    },
    {
      "cell_type": "code",
      "execution_count": null,
      "metadata": {
        "colab": {
          "base_uri": "https://localhost:8080/"
        },
        "id": "l7_u1cVbmB0Z",
        "outputId": "e60f1e7f-faac-4fdf-9243-aaf26e56f971"
      },
      "outputs": [
        {
          "output_type": "stream",
          "name": "stdout",
          "text": [
            "Enter number: 2\n",
            "Even!!\n"
          ]
        }
      ],
      "source": [
        "#Task 01\n",
        "\n",
        "def even_checker(x):\n",
        "  if x%2==0:\n",
        "    print(\"Even!!\")\n",
        "  else:\n",
        "    print(\"Odd!!\") \n",
        "\n",
        "a=int(input(\"Enter number: \"))\n",
        "even_checker(a)"
      ]
    },
    {
      "cell_type": "code",
      "source": [
        "#Task 02\n",
        "\n",
        "def fibonacci(x):\n",
        "  n1=0\n",
        "  n2=1\n",
        "  sum=0\n",
        "  if x>=0:\n",
        "    print(n1,end=\" \")\n",
        "  if x>=1:\n",
        "    print(n2,end=\" \")\n",
        "  sum=n1+n2\n",
        "  while sum<=x:\n",
        "    print(sum,end=\" \")\n",
        "    n1=n2\n",
        "    n2=sum\n",
        "    sum=n1+n2\n",
        "       \n",
        "\n",
        "lt=int(input(\"Enter limit : \"))\n",
        "fibonacci(lt)\n"
      ],
      "metadata": {
        "colab": {
          "base_uri": "https://localhost:8080/"
        },
        "id": "XuwXhbiVnECI",
        "outputId": "0818e1a1-69da-4638-8411-09a5e78b378e"
      },
      "execution_count": null,
      "outputs": [
        {
          "output_type": "stream",
          "name": "stdout",
          "text": [
            "Enter limit : 15\n",
            "0 1 1 2 3 5 8 13 "
          ]
        }
      ]
    },
    {
      "cell_type": "code",
      "source": [
        "#Task 03\n",
        "\n",
        "def foo_moo(x):\n",
        "  if x%2==0 and x%3==0:\n",
        "    return \"FooMoo\"\n",
        "  elif x%2==0:\n",
        "    return \"Foo\"\n",
        "  elif x%3==0:\n",
        "    return \"Moo\"\n",
        "  else:\n",
        "    return \"Boo\"\n",
        "    \n",
        "a=int(input(\"Enter number: \"))\n",
        "print(foo_moo(a))"
      ],
      "metadata": {
        "colab": {
          "base_uri": "https://localhost:8080/"
        },
        "id": "W_YQ300Ptt23",
        "outputId": "87943469-9382-48ed-e9c5-9dc876aad924"
      },
      "execution_count": null,
      "outputs": [
        {
          "output_type": "stream",
          "name": "stdout",
          "text": [
            "Enter number: 6\n",
            "FooMoo\n"
          ]
        }
      ]
    },
    {
      "cell_type": "code",
      "source": [
        "#Task 04\n",
        "\n",
        "def function_name(x):\n",
        "  up=0\n",
        "  low=0\n",
        "  for i in x:\n",
        "    if \"A\"<=i<=\"Z\":\n",
        "      up+=1\n",
        "    elif \"a\"<=i<=\"z\":\n",
        "      low+=1\n",
        "  print(\"No. of Uppercase characters :\",up)\n",
        "  print(\"No. of Lowercase Characters:\",low)\n",
        "\n",
        "st=input(\"Enter string: \")\n",
        "function_name(st)\n",
        "\n"
      ],
      "metadata": {
        "id": "3KD7o-KhvHuB",
        "colab": {
          "base_uri": "https://localhost:8080/"
        },
        "outputId": "11a144ea-3a95-4087-a384-5b61a78139d5"
      },
      "execution_count": null,
      "outputs": [
        {
          "output_type": "stream",
          "name": "stdout",
          "text": [
            "Enter string: 'HaRRy PotteR'\n",
            "No. of Uppercase characters : 5\n",
            "No. of Lowercase Characters: 6\n"
          ]
        }
      ]
    },
    {
      "cell_type": "code",
      "source": [
        "#Task 05\n",
        "\n",
        "def calculate_tax(age,sal,prof):\n",
        "  if age<18 or sal<10000 or prof==\"president\":\n",
        "    return 0\n",
        "  else:\n",
        "    if 10000<=sal<=20000:\n",
        "      return sal*0.05\n",
        "    else:\n",
        "      return sal*0.1\n",
        "\n",
        "age=int(input(\"Enter age: \"))\n",
        "sal=int(input(\"Enter salary: \"))\n",
        "prof=input(\"Enter profession: \")\n",
        "prof=prof.lower()\n",
        "print(calculate_tax(age,sal,prof))\n",
        "\n",
        "\n"
      ],
      "metadata": {
        "colab": {
          "base_uri": "https://localhost:8080/"
        },
        "id": "e28UmPVj2VgA",
        "outputId": "2fce395d-bdc2-41c2-9eb7-543b3d4990b3"
      },
      "execution_count": null,
      "outputs": [
        {
          "output_type": "stream",
          "name": "stdout",
          "text": [
            "Enter age: 45\n",
            "Enter salary: 122220000\n",
            "Enter profession: PRESIDENT\n",
            "0\n"
          ]
        }
      ]
    },
    {
      "cell_type": "code",
      "source": [
        "#Task 06\n",
        "\n",
        "def function_name(days):\n",
        "  years=days//365\n",
        "  mod1=days%365\n",
        "  months=mod1//30\n",
        "  day=mod1%30\n",
        "  print(f\"{years} years, {months} months and {day} days\")\n",
        "\n",
        "d=int(input(\"Enter days: \"))\n",
        "function_name(d)\n",
        "  \n",
        "  \n"
      ],
      "metadata": {
        "id": "4Sjr5Tai-RwQ",
        "colab": {
          "base_uri": "https://localhost:8080/"
        },
        "outputId": "ec56a6ae-7c5a-4e40-ed43-4ba3cf8bbc78"
      },
      "execution_count": null,
      "outputs": [
        {
          "output_type": "stream",
          "name": "stdout",
          "text": [
            "Enter days: 2250\n",
            "6 years, 2 months and 0 days\n"
          ]
        }
      ]
    },
    {
      "cell_type": "code",
      "source": [
        "#Task 07\n",
        "\n",
        "def show_palindrome(x):\n",
        "  sum=\"\"\n",
        "  for i in range(1,x+1):\n",
        "    sum+=str(i)  \n",
        "  for j in range(x-1,0,-1):\n",
        "    sum+=str(j)\n",
        "  return sum  \n",
        "\n",
        "num=int(input(\"Enter number: \"))\n",
        "print(show_palindrome(num))\n"
      ],
      "metadata": {
        "colab": {
          "base_uri": "https://localhost:8080/"
        },
        "id": "qYRgPD081tjT",
        "outputId": "eb4f00f6-4ac6-4f6a-8522-d004597c1a97"
      },
      "execution_count": null,
      "outputs": [
        {
          "output_type": "stream",
          "name": "stdout",
          "text": [
            "Enter number: 5\n",
            "123454321\n"
          ]
        }
      ]
    },
    {
      "cell_type": "code",
      "source": [
        "#Task 08\n",
        "\n",
        "def show_palindrome(x):\n",
        "  sum=\"\"\n",
        "  for i in range(1,x+1):\n",
        "    sum+=\" \"+str(i)  \n",
        "  for j in range(x-1,0,-1):\n",
        "    sum+=\" \"+str(j)\n",
        "  return sum \n",
        "\n",
        "def show_palindrome_triangle(y):\n",
        "  for i in range(y-1,-1,-1):\n",
        "   print(2*i*\" \"+show_palindrome(y-i))\n",
        "   \n",
        "num=int(input(\"Enter number: \"))\n",
        "show_palindrome_triangle(num)\n",
        "\n"
      ],
      "metadata": {
        "colab": {
          "base_uri": "https://localhost:8080/"
        },
        "id": "x2z4CS_nBiZl",
        "outputId": "e7355fe5-ae48-4ee7-aaae-347b7ff0a8fd"
      },
      "execution_count": null,
      "outputs": [
        {
          "output_type": "stream",
          "name": "stdout",
          "text": [
            "Enter number: 9\n",
            "                 1\n",
            "               1 2 1\n",
            "             1 2 3 2 1\n",
            "           1 2 3 4 3 2 1\n",
            "         1 2 3 4 5 4 3 2 1\n",
            "       1 2 3 4 5 6 5 4 3 2 1\n",
            "     1 2 3 4 5 6 7 6 5 4 3 2 1\n",
            "   1 2 3 4 5 6 7 8 7 6 5 4 3 2 1\n",
            " 1 2 3 4 5 6 7 8 9 8 7 6 5 4 3 2 1\n"
          ]
        }
      ]
    },
    {
      "cell_type": "code",
      "source": [
        "#Task 09\n",
        "import math\n",
        "def area_circumference_generator(r):\n",
        "  area=math.pi*(r**2)\n",
        "  circum=2*math.pi*r\n",
        "  tup=(area,circum)\n",
        "  a,b=tup \n",
        "  print(tup)\n",
        "  print(f\"Area of the circle is {a} and circumference is {b}\")\n",
        "   \n",
        "x=float(input(\"Enter integar: \"))  \n",
        "area_circumference_generator(x)"
      ],
      "metadata": {
        "colab": {
          "base_uri": "https://localhost:8080/"
        },
        "id": "9W0UvJR9oXK2",
        "outputId": "70207ade-89c8-4ef5-8c17-cf623a7fb4a2"
      },
      "execution_count": null,
      "outputs": [
        {
          "output_type": "stream",
          "name": "stdout",
          "text": [
            "Enter integar: 2.5\n",
            "(19.634954084936208, 15.707963267948966)\n",
            "Area of the circle is 19.634954084936208 and circumference is 15.707963267948966\n"
          ]
        }
      ]
    },
    {
      "cell_type": "code",
      "source": [
        "#Task 10\n",
        "\n",
        "def make_square(tup):\n",
        "  x,y=tup\n",
        "  dic={}\n",
        "  for i in range(x,y+1):\n",
        "    dic[i]=i**2\n",
        "  return dic \n",
        "\n",
        "lowlt=int(input(\"Enter lower limit: \")) \n",
        "uplt=int(input(\"Enter upper limit: \"))\n",
        "  \n",
        "print(make_square((lowlt,uplt)))"
      ],
      "metadata": {
        "colab": {
          "base_uri": "https://localhost:8080/"
        },
        "id": "UAQcuX86tyOS",
        "outputId": "e7c9e9fd-6ef4-4816-f82f-8e7216ab380b"
      },
      "execution_count": null,
      "outputs": [
        {
          "output_type": "stream",
          "name": "stdout",
          "text": [
            "Enter lower limit: 5\n",
            "Enter upper limit: 9\n",
            "{5: 25, 6: 36, 7: 49, 8: 64, 9: 81}\n"
          ]
        }
      ]
    },
    {
      "cell_type": "code",
      "source": [
        "#Task 11\n",
        "\n",
        "def rem_duplicate(tup):\n",
        "  l2=[]\n",
        "  l1=list(tup)\n",
        "  for i in l1:\n",
        "    if i not in l2:\n",
        "      l2.append(i)\n",
        "  tup1=tuple(l2)\n",
        "  return tup1\n",
        "\n",
        "print(rem_duplicate((\"Hi\", 1, 2, 3, 3, \"Hi\",'a', 'a', [1,2])))\n"
      ],
      "metadata": {
        "id": "70xFvmdm5_50",
        "colab": {
          "base_uri": "https://localhost:8080/"
        },
        "outputId": "654adee1-2a47-4534-ee65-f432dce028a4"
      },
      "execution_count": null,
      "outputs": [
        {
          "output_type": "stream",
          "name": "stdout",
          "text": [
            "('Hi', 1, 2, 3, 'a', [1, 2])\n"
          ]
        }
      ]
    },
    {
      "cell_type": "code",
      "source": [
        "#Task 12\n",
        "\n",
        "def function_name(lt):\n",
        "  l2=[]\n",
        "  rem=0\n",
        "  for i in lt:\n",
        "    if l2.count(i)>=2:\n",
        "      rem+=1\n",
        "      continue\n",
        "    else:\n",
        "      l2.append(i)\n",
        "  print(\"Removed:\",rem)\n",
        "  return l2\n",
        "\n",
        "print(function_name([1, 2, 3, 3, 3, 3, 4, 5, 8, 8]))\n",
        "\n"
      ],
      "metadata": {
        "colab": {
          "base_uri": "https://localhost:8080/"
        },
        "id": "gxWtOv3PLGtH",
        "outputId": "cd81574a-7263-4e03-ca7e-6c9172046ee0"
      },
      "execution_count": null,
      "outputs": [
        {
          "output_type": "stream",
          "name": "stdout",
          "text": [
            "Removed: 2\n",
            "[1, 2, 3, 3, 4, 5, 8, 8]\n"
          ]
        }
      ]
    },
    {
      "cell_type": "code",
      "source": [
        "#Task 13\n",
        "\n",
        "def function_name(x,y,z):\n",
        "  if x==\"+\":\n",
        "    f=y+z\n",
        "  elif x==\"-\":\n",
        "    f=y-z\n",
        "  elif x==\"/\":\n",
        "    f=y/z\n",
        "  elif x==\"*\":\n",
        "    f=y*z\n",
        "  return f\n",
        "\n",
        "a=input(\"Enter operator: \")\n",
        "b=float(input(\"Enter number1: \"))\n",
        "c=float(input(\"Enter number2: \"))\n",
        "print(function_name(a,b,c))"
      ],
      "metadata": {
        "colab": {
          "base_uri": "https://localhost:8080/"
        },
        "id": "ptorBjDsXSnm",
        "outputId": "cbd07460-6236-4849-98c5-fdb8669c0733"
      },
      "execution_count": null,
      "outputs": [
        {
          "output_type": "stream",
          "name": "stdout",
          "text": [
            "Enter operator: *\n",
            "Enter number1: 5.5\n",
            "Enter number2: 2.5\n",
            "13.75\n"
          ]
        }
      ]
    },
    {
      "cell_type": "code",
      "source": [
        "#Task 14\n",
        "\n",
        "def function_name(st,ind):\n",
        "  new=\"\"\n",
        "  newr=\"\"\n",
        "  for i in range(len(st)):\n",
        "    if i%ind!=0 or i==0:\n",
        "      new+=st[i]\n",
        "    else:\n",
        "      newr+=st[i]\n",
        "      \n",
        "  return new+newr\n",
        "\n",
        "a=input(\"Enter string: \")\n",
        "b=int(input(\"Enter index: \"))\n",
        "print(function_name(a,b))\n",
        "\n"
      ],
      "metadata": {
        "colab": {
          "base_uri": "https://localhost:8080/"
        },
        "id": "JZXVFIztfAmR",
        "outputId": "78cb9fbc-c5f6-41ff-cac7-816555bc49e8"
      },
      "execution_count": null,
      "outputs": [
        {
          "output_type": "stream",
          "name": "stdout",
          "text": [
            "Enter string: Python is easy to learn. I love python.\n",
            "Enter index: 6\n",
            "Pythonis eay to earn.I lov pythn. sl eo\n"
          ]
        }
      ]
    },
    {
      "cell_type": "code",
      "source": [
        "#Task 15\n",
        "\n",
        "def function_name(l1,place=\"Dhanmondi\"):\n",
        "   d={'Rice':105,'Potato':20 ,'Chicken':250,'Beef':510,'Oil':85}\n",
        "   value=0\n",
        "   for i in l1:\n",
        "     if i in d.keys():\n",
        "       value+=d[i]\n",
        "   if place!=\"Dhanmondi\":\n",
        "     value+=70\n",
        "   else:\n",
        "     value+=30\n",
        "   return value\n",
        "\n",
        "st=input(\"Enter list: \")\n",
        "stn=st[1:len(st)-1:]\n",
        "l2=stn.split(\", \")\n",
        "l3=[]\n",
        "for i in l2:\n",
        "  j=i[1:len(i)-1:]\n",
        "  l3.append(j)\n",
        "\n",
        "print(function_name(l3,\"Mohakhali\"))\n",
        "#print(function_name(l3))\n",
        "\n",
        "\n"
      ],
      "metadata": {
        "colab": {
          "base_uri": "https://localhost:8080/"
        },
        "id": "Wi3sUHwolEJ3",
        "outputId": "0cba5402-ba49-4b68-ad68-12fefaf8117e"
      },
      "execution_count": null,
      "outputs": [
        {
          "output_type": "stream",
          "name": "stdout",
          "text": [
            "Enter list: [\"Rice\", \"Beef\", \"Rice\"]\n",
            "790\n"
          ]
        }
      ]
    },
    {
      "cell_type": "markdown",
      "source": [
        "**UNGRADED**"
      ],
      "metadata": {
        "id": "Jw292TqwuQRN"
      }
    },
    {
      "cell_type": "code",
      "source": [
        "#Task 16\n",
        "\n",
        "def splitting_money(x):\n",
        "  fhtk=x//500\n",
        "  mod=x%500\n",
        "  ohtk=mod//100\n",
        "  mod=mod%100\n",
        "  ttk=mod//20\n",
        "  mod=mod%20\n",
        "  tentk=mod//10\n",
        "  mod=mod%10\n",
        "  two=mod//2\n",
        "  return fhtk,ohtk,ttk,tentk,two\n",
        "\n",
        "tk=int(input(\"Enter taka= \"))\n",
        "sum=splitting_money(tk)\n",
        "a,b,c,d,e=sum\n",
        "print(f\"500 Taka: {a} note(s)\\n100 Taka: {b} note(s)\\n20 Taka: {c} note(s)\\n10 Taka: {d} note(s)\\n2 Taka: {e} note(s)\")\n",
        "\n",
        "\n",
        "\n"
      ],
      "metadata": {
        "colab": {
          "base_uri": "https://localhost:8080/"
        },
        "id": "dnPPib9iuPtr",
        "outputId": "487dda46-fa9b-437f-b616-c304c44716eb"
      },
      "execution_count": null,
      "outputs": [
        {
          "output_type": "stream",
          "name": "stdout",
          "text": [
            "Enter taka= 1234\n",
            "500 Taka: 2 note(s)\n",
            "100 Taka: 2 note(s)\n",
            "20 Taka: 1 note(s)\n",
            "10 Taka: 1 note(s)\n",
            "2 Taka: 2 note(s)\n"
          ]
        }
      ]
    },
    {
      "cell_type": "code",
      "source": [
        "#Task 17\n",
        "\n",
        "def remove_odd(list1):\n",
        "  list2=[]\n",
        "  for i in list1:\n",
        "    if i%2==0:\n",
        "      list2.append(i)\n",
        "  return list2\n",
        "\n",
        "x=[21, 33, 44, 66, 11, 1, 88, 45, 10, 9]\n",
        "#x=[11,2,3,4,5,2,0,5,3]\n",
        "print(remove_odd(x))\n"
      ],
      "metadata": {
        "colab": {
          "base_uri": "https://localhost:8080/"
        },
        "id": "otYiuFRXyZNW",
        "outputId": "9c2d82e2-e175-437e-8a92-21836e13cd58"
      },
      "execution_count": null,
      "outputs": [
        {
          "output_type": "stream",
          "name": "stdout",
          "text": [
            "[44, 66, 88, 10]\n"
          ]
        }
      ]
    },
    {
      "cell_type": "code",
      "source": [
        "#Task 18\n",
        "\n",
        "def function_name(st,en,fd,sd):\n",
        "  sum=0\n",
        "  for i in range(st,en):\n",
        "    if (i%fd==0 or i%sd==0) and not(i%fd==0 and i%sd==0):\n",
        "      sum+=i\n",
        "  return sum\n",
        "\n",
        "a=int(input(\"Enter starting: \"))\n",
        "b=int(input(\"Enter ending: \"))\n",
        "c=int(input(\"Enter first divisor: \"))\n",
        "d=int(input(\"Enter second divisor: \"))\n",
        "print(function_name(a,b,c,d))\n",
        "\n",
        "\n"
      ],
      "metadata": {
        "colab": {
          "base_uri": "https://localhost:8080/"
        },
        "id": "rAZqFHM8350r",
        "outputId": "60195570-9085-48d9-8eb8-9ef09a521be7"
      },
      "execution_count": null,
      "outputs": [
        {
          "output_type": "stream",
          "name": "stdout",
          "text": [
            "Enter starting: 5\n",
            "Enter ending: 100\n",
            "Enter first divisor: 3\n",
            "Enter second divisor: 4\n",
            "2012\n"
          ]
        }
      ]
    },
    {
      "cell_type": "code",
      "source": [
        "#Task 19\n",
        "\n",
        "def function_name(x):\n",
        "  ct=0\n",
        "  for i in x:\n",
        "    if 'a'<=i<='j':\n",
        "      ct+=1\n",
        "  if ct>0:\n",
        "    range=5\n",
        "  else:\n",
        "    range=6\n",
        "\n",
        "\n",
        "  return range\n",
        "\n",
        "st=input(\"Enter string: \")\n",
        "d=function_name(st)\n",
        "for n in range(d):\n",
        "  print(\"PSG will win the Champions League this season\")\n",
        "\n",
        "\n"
      ],
      "metadata": {
        "id": "Ne23L0Q47ijO",
        "colab": {
          "base_uri": "https://localhost:8080/"
        },
        "outputId": "3a8f419c-1509-4cbc-a46b-203e8eca32da"
      },
      "execution_count": null,
      "outputs": [
        {
          "output_type": "stream",
          "name": "stdout",
          "text": [
            "Enter string: ABBCDEFEFGHI\n",
            "PSG will win the Champions League this season\n",
            "PSG will win the Champions League this season\n",
            "PSG will win the Champions League this season\n",
            "PSG will win the Champions League this season\n",
            "PSG will win the Champions League this season\n",
            "PSG will win the Champions League this season\n"
          ]
        }
      ]
    },
    {
      "cell_type": "code",
      "source": [
        "#Task 20\n",
        "\n",
        "def individul_bonus_calculation(name,earn,goal,bonusp):\n",
        "  if goal>30:\n",
        "    bonus=goal*(bonusp/100*earn)+10000\n",
        "  elif 20<=goal<=30:\n",
        "    bonus=goal*(bonusp/100*earn)+5000\n",
        "  else:\n",
        "    bonus=goal*(bonusp/100*earn)\n",
        "\n",
        "  print(f\"{name} earned a bonus of {int(bonus)} Taka for {goal} goals.\")\n",
        "\n",
        "individul_bonus_calculation(\"Neymar\",1200000,35,5)\n",
        "#individul_bonus_calculation(name,earn,goal,bonusp)\n",
        "\n"
      ],
      "metadata": {
        "colab": {
          "base_uri": "https://localhost:8080/"
        },
        "id": "t4k4C-9hzkeX",
        "outputId": "f3f4694d-71e1-4ecb-94af-49aa1c850bf1"
      },
      "execution_count": null,
      "outputs": [
        {
          "output_type": "stream",
          "name": "stdout",
          "text": [
            "Neymar earned a bonus of 2110000 Taka for 35 goals.\n"
          ]
        }
      ]
    },
    {
      "cell_type": "code",
      "source": [
        "#Task 21\n",
        "\n",
        "def individul_bonus_calculation(name,earn,goal,bonusp):\n",
        "  if goal>30:\n",
        "    bonus=goal*(bonusp/100*earn)+10000\n",
        "  elif 20<=goal<=30:\n",
        "    bonus=goal*(bonusp/100*earn)+5000\n",
        "  else:\n",
        "    bonus=goal*(bonusp/100*earn)\n",
        "\n",
        "  print(f\"{name} earned a bonus of {int(bonus)} Taka for {goal} goals.\")\n",
        "\n",
        "# Main part\n",
        "def cal_bonus(*arg):\n",
        "  for k in range(0,len(arg),4):\n",
        "    individul_bonus_calculation(arg[0+k],arg[1+k],arg[2+k],arg[3+k])\n",
        "    \n",
        "cal_bonus(\"Neymar\", 1200000, 35, 5, 'Jamal', 700000, 19, 8, 'Luis', 80000, 25, 10)\n",
        "\n"
      ],
      "metadata": {
        "id": "RVHb-jPmB-dk",
        "colab": {
          "base_uri": "https://localhost:8080/"
        },
        "outputId": "63d890dd-7724-4443-ebfb-2290748401e7"
      },
      "execution_count": null,
      "outputs": [
        {
          "output_type": "stream",
          "name": "stdout",
          "text": [
            "Neymar earned a bonus of 2110000 Taka for 35 goals.\n",
            "Jamal earned a bonus of 1064000 Taka for 19 goals.\n",
            "Luis earned a bonus of 205000 Taka for 25 goals.\n"
          ]
        }
      ]
    },
    {
      "cell_type": "code",
      "source": [
        "#CSE110 marks & grade calculation \n",
        "\n",
        "def result(name,mid,quiz,lab,attendence,final):\n",
        "    finals=mid+(quiz/3)+lab+attendence+final\n",
        "    return finals\n",
        "a=input(\"Name: \")\n",
        "b=float(input(\"mid:\" ))\n",
        "l=float(input(\"lab:\" ))\n",
        "att=float(input(\"attendence:\" ))\n",
        "fin=float(input(\"final:\" ))\n",
        "sum=0\n",
        "l1=[]\n",
        "for i in range(4): \n",
        " c=float(input(\"quiz:\" ))\n",
        " l1.append(c)\n",
        "l1.sort()\n",
        "l1=l1[1:4]\n",
        "for j in l1:\n",
        "  sum+=j\n",
        "\n",
        "f=result(a,b,sum,l,att,fin)\n",
        "if f>=90:\n",
        "  print(f)\n",
        "  print(\"CGPA 4.00\")\n",
        "elif 85<=f<90:\n",
        "  print(f)\n",
        "  print(\"CGPA 3.7\")\n",
        "elif 85<=f<90:\n",
        "  print(f)\n",
        "  print(\"CGPA 3.7\")\n",
        "elif 80<=f<85:\n",
        "  print(f)\n",
        "  print(\"CGPA 3.3\")\n",
        "elif 75<=f<80:\n",
        "  print(f)\n",
        "  print(\"CGPA 3.0\")\n",
        "elif 70<=f<85:\n",
        "  print(f)\n",
        "  print(\"CGPA 2.7\")\n",
        "elif 65<=f<70:\n",
        "  print(f)\n",
        "  print(\"CGPA 2.3\")\n",
        "elif 60<=f<65:\n",
        "  print(f)\n",
        "  print(\"CGPA 2.0\")\n",
        "elif 57<=f<60:\n",
        "  print(f)\n",
        "  print(\"CGPA 1.7\")\n",
        "elif 55<=f<57:\n",
        "  print(f)\n",
        "  print(\"CGPA 1.3\")\n",
        "elif 52<=f<55:\n",
        "  print(f)\n",
        "  print(\"CGPA 1.0\")  \n",
        "elif 50<=f<52:\n",
        "  print(f)\n",
        "  print(\"CGPA 0.7\")\n",
        "elif 0<=f<50:\n",
        "  print(f)\n",
        "  print(\"CGPA 0.0 Or Failure\")"
      ],
      "metadata": {
        "colab": {
          "base_uri": "https://localhost:8080/"
        },
        "id": "FNnR2QKWOCEA",
        "outputId": "7b27716e-32b8-4f6b-ca18-0700092a0ad8"
      },
      "execution_count": 1,
      "outputs": [
        {
          "output_type": "stream",
          "name": "stdout",
          "text": [
            "Name: Rakibul\n",
            "mid:17\n",
            "lab:24.5\n",
            "attendence:5\n",
            "final:30\n",
            "quiz:18\n",
            "quiz:20\n",
            "quiz:16\n",
            "quiz:19\n",
            "95.5\n",
            "CGPA 4.00\n"
          ]
        }
      ]
    },
    {
      "cell_type": "markdown",
      
      ],
      "metadata": {
        "id": "Y6gapk8gb-xf"
      }
    }
  ]
}
